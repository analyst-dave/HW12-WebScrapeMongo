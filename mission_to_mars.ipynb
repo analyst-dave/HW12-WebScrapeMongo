{
 "cells": [
  {
   "cell_type": "code",
   "execution_count": 25,
   "metadata": {
    "collapsed": true
   },
   "outputs": [],
   "source": [
    "# Dependencies\n",
    "from splinter import Browser\n",
    "from bs4 import BeautifulSoup\n",
    "import requests\n",
    "import pymongo\n",
    "import time\n",
    "import pandas as pd"
   ]
  },
  {
   "cell_type": "code",
   "execution_count": 17,
   "metadata": {},
   "outputs": [],
   "source": [
    "# Initialize PyMongo to work with MongoDBs\n",
    "#conn = 'mongodb://localhost:27017'\n",
    "#client = pymongo.MongoClient(conn)"
   ]
  },
  {
   "cell_type": "code",
   "execution_count": 26,
   "metadata": {},
   "outputs": [],
   "source": [
    "# Initialize PyMongo to work with MongoDBs\n",
    "conn = 'mongodb://localhost:27017/mars_app'\n",
    "client = pymongo.MongoClient(conn)\n",
    "db = client.mars_app\n",
    "listings = db.listings.find_one()"
   ]
  },
  {
   "cell_type": "code",
   "execution_count": 18,
   "metadata": {},
   "outputs": [],
   "source": [
    "# Define database and collection\n",
    "#db = client.mars\n",
    "#posts = db.posts"
   ]
  },
  {
   "cell_type": "code",
   "execution_count": 35,
   "metadata": {},
   "outputs": [],
   "source": [
    "executable_path = {'executable_path': 'chromedriver.exe'}\n",
    "browser = Browser('chrome', **executable_path, headless=False)"
   ]
  },
  {
   "cell_type": "code",
   "execution_count": 28,
   "metadata": {
    "collapsed": true
   },
   "outputs": [],
   "source": [
    "# URL of page to be scraped\n",
    "nasa_url = \"https://mars.nasa.gov/news\"\n",
    "jpl_url = \"https://www.jpl.nasa.gov/spaceimages/?search=&category=Mars\"\n",
    "twit_url = \"https://twitter.com/marswxreport?lang=en\"\n",
    "facts_url = \"https://space-facts.com/mars/\"\n",
    "usgs_url = \"https://astrogeology.usgs.gov/search/results?q=hemisphere+enhanced&k1=target&v1=Mars\""
   ]
  },
  {
   "cell_type": "code",
   "execution_count": 37,
   "metadata": {
    "tags": []
   },
   "outputs": [
    {
     "output_type": "stream",
     "name": "stdout",
     "text": "-------------\nscraping: https://mars.nasa.gov/news\nJuly 14, 2020\n6 Things to Know About NASA's Ingenuity Mars Helicopter\nThe first helicopter attempting to fly on another planet is a marvel of engineering. Get up to speed with these key facts about its plans.\n"
    }
   ],
   "source": [
    "########\n",
    "# begin logic for: nasa_url = \"https://mars.nasa.gov/news\"\n",
    "#\n",
    "try:\n",
    "    browser.visit(nasa_url)\n",
    "    time.sleep(2)\n",
    "    soup = BeautifulSoup(browser.html, 'html.parser')\n",
    "    #response = requests.get(nasa_url)\n",
    "    time.sleep(2)\n",
    "    #soup = BeautifulSoup(response.text, 'html.parser')\n",
    "    #print(soup.prettify())\n",
    "    txtdiv = soup.find('div', class_=\"list_text\")\n",
    "    date = txtdiv.find('div', class_=\"list_date\").text\n",
    "    desc = txtdiv.find('div', class_=\"article_teaser_body\").text\n",
    "    titlediv = txtdiv.find('div', class_=\"content_title\")\n",
    "    title = titlediv.text\n",
    "    href = titlediv.find('a')\n",
    "\n",
    "    imgdiv = soup.find('div', class_=\"list_image\")\n",
    "    img = imgdiv.find('img')\n",
    "\n",
    "    # Print results only if title, price, and link are available\n",
    "    if ( title and desc):\n",
    "        print('-------------')\n",
    "        print('scraping: ' + nasa_url)\n",
    "        print(date)\n",
    "        print(title)\n",
    "        print(desc)\n",
    "        # Dictionary to be inserted as a MongoDB document\n",
    "        listings['news_title'] = title\n",
    "        listings[\"news_p\"] = desc\n",
    "        listings[\"news_thumb\"] = \"https://mars.nasa.gov\" + img['src']\n",
    "        listings[\"news_link\"] = \"https://mars.nasa.gov\" + href['href']\n",
    "        listings[\"date\"] = date\n",
    "    \n",
    "    db.listings.update({}, listings, upsert=True)\n",
    "except AttributeError as e:\n",
    "    print(e)\n",
    "#\n",
    "# end logic for: nasa_url = \"https://mars.nasa.gov/news\"\n",
    "########"
   ]
  },
  {
   "cell_type": "code",
   "execution_count": 39,
   "metadata": {
    "tags": []
   },
   "outputs": [
    {
     "output_type": "stream",
     "name": "stdout",
     "text": "-----------\nscraping: https://www.jpl.nasa.gov/spaceimages/?search=&category=Mars\nUsing publicly available data, astronomers have confirmed K2's first exoplanet discovery proving Kepler can still find planets.\nhttps://www.jpl.nasa.gov/spaceimages/images/largesize/PIA18904_hires.jpg\n"
    }
   ],
   "source": [
    "########\n",
    "# begin logic for: jpl_url = \"https://www.jpl.nasa.gov/spaceimages/?search=&category=Mars\"\n",
    "#\n",
    "try:\n",
    "    browser.visit(jpl_url)\n",
    "    time.sleep(1)\n",
    "    browser.click_link_by_partial_text('FULL IMAGE')\n",
    "    time.sleep(1)\n",
    "    browser.click_link_by_partial_text('more info')\n",
    "    time.sleep(2)\n",
    "    soup1 = BeautifulSoup(browser.html, 'html.parser')\n",
    "    main_img = soup1.find('img', class_=\"main_image\")\n",
    "    href = main_img['src']\n",
    "    title = main_img['title']\n",
    "    print('-----------')\n",
    "    print('scraping: ' + jpl_url)\n",
    "    print(title)\n",
    "    print('https://www.jpl.nasa.gov' + href)\n",
    "    listings['featured_image_url'] = 'https://www.jpl.nasa.gov'+href\n",
    "    db.listings.update({}, listings, upsert=True)\n",
    "except Exception as e:\n",
    "        print(\"#### Error: \" + e)\n",
    "#\n",
    "# end logic for: jpl_url = \"https://www.jpl.nasa.gov/spaceimages/?search=&category=Mars\"\n",
    "########"
   ]
  },
  {
   "cell_type": "code",
   "execution_count": 41,
   "metadata": {
    "tags": []
   },
   "outputs": [
    {
     "output_type": "stream",
     "name": "stdout",
     "text": "-----------------\nscraping: https://twitter.com/marswxreport?lang=en\n-----------------\nMars Weather@MarsWxReport·10h\n sol 579 (2020-07-13) low -88.5ºC (-127.4ºF) high -3.7ºC (25.4ºF)\nwinds from the WNW at 5.0 m/s (11.2 mph) gusting to 14.8 m/s (33.1 mph)\npressure at 7.80 hPa219\n-----------------\nMars Weather@MarsWxReport·Jul 13\n sol 578 (2020-07-12) low -88.3ºC (-126.9ºF) high -5.2ºC (22.7ºF)\nwinds from the WNW at 5.0 m/s (11.1 mph) gusting to 13.4 m/s (30.1 mph)\npressure at 7.70 hPa621\n-----------------\nNothing to scrape for this twit\n-----------------\nMars Weather@MarsWxReport·Jul 1\n sol 566 (2020-06-29) low -88.4ºC (-127.1ºF) high -4.2ºC (24.4ºF)\nwinds from the WNW at 5.1 m/s (11.5 mph) gusting to 16.8 m/s (37.6 mph)\npressure at 7.70 hPa1440\n-----------------\nNothing to scrape for this twit\n-----------------\nNothing to scrape for this twit\n-----------------\nMars Weather@MarsWxReport·Jun 30\n sol 565 (2020-06-28) low -89.6ºC (-129.3ºF) high -5.0ºC (22.9ºF)\nwinds from the WNW at 4.5 m/s (10.0 mph) gusting to 17.6 m/s (39.4 mph)\npressure at 7.60 hPa924\n"
    }
   ],
   "source": [
    "########\n",
    "# begin logic for: twit_url = \"https://twitter.com/marswxreport?lang=en\"\n",
    "#\n",
    "browser.visit(twit_url)\n",
    "time.sleep(4)\n",
    "soup2 = BeautifulSoup(browser.html, 'html.parser')\n",
    "firstTime = True\n",
    "print('-----------------')\n",
    "print('scraping: ' + twit_url)\n",
    "for article in soup2.find_all('article'):\n",
    "    print('-----------------')\n",
    "    try:\n",
    "        inSightStr = article.text\n",
    "        splitstr = inSightStr.split('InSight')[1]\n",
    "        postinfo = inSightStr.split('InSight')[0]\n",
    "        print(postinfo)\n",
    "        print(splitstr)\n",
    "        \n",
    "        if ( firstTime ) :\n",
    "            listings['mars_weather'] = splitstr\n",
    "            listings['postinfo'] = postinfo\n",
    "            db.listings.update({}, listings, upsert=True)\n",
    "            firstTime = False\n",
    "    except:\n",
    "        print(\"Nothing to scrape for this twit\")\n",
    "#\n",
    "# end logic for: twit_url = \"https://twitter.com/marswxreport?lang=en\"\n",
    "########"
   ]
  },
  {
   "cell_type": "code",
   "execution_count": 42,
   "metadata": {
    "tags": []
   },
   "outputs": [
    {
     "output_type": "stream",
     "name": "stdout",
     "text": "-----------------\n-----------\nCerberus Hemisphere Enhanced\nhttps://www.jpl.nasa.gov/cache/images/39d3266553462198bd2fbc4d18fbed17_cerberus_enhanced.tif_thumb.png\nhttps://astropedia.astrogeology.usgs.gov/download/Mars/Viking/cerberus_enhanced.tif/full.jpg\n-----------------\n-----------\nSchiaparelli Hemisphere Enhanced\nhttps://www.jpl.nasa.gov/cache/images/08eac6e22c07fb1fe72223a79252de20_schiaparelli_enhanced.tif_thumb.png\nhttps://astropedia.astrogeology.usgs.gov/download/Mars/Viking/schiaparelli_enhanced.tif/full.jpg\n-----------------\n-----------\nSyrtis Major Hemisphere Enhanced\nhttps://www.jpl.nasa.gov/cache/images/55a0a1e2796313fdeafb17c35925e8ac_syrtis_major_enhanced.tif_thumb.png\nhttps://astropedia.astrogeology.usgs.gov/download/Mars/Viking/syrtis_major_enhanced.tif/full.jpg\n-----------------\n-----------\nValles Marineris Hemisphere Enhanced\nhttps://www.jpl.nasa.gov/cache/images/4e59980c1c57f89c680c0e1ccabbeff1_valles_marineris_enhanced.tif_thumb.png\nhttps://astropedia.astrogeology.usgs.gov/download/Mars/Viking/valles_marineris_enhanced.tif/full.jpg\n"
    },
    {
     "output_type": "execute_result",
     "data": {
      "text/plain": "{'n': 1, 'nModified': 0, 'ok': 1.0, 'updatedExisting': True}"
     },
     "metadata": {},
     "execution_count": 42
    }
   ],
   "source": [
    "########\n",
    "# begin logic for: usgs_url = \"https://astrogeology.usgs.gov/search/results?q=hemisphere+enhanced&k1=target&v1=Mars\"\n",
    "#\n",
    "hemisphere_image_urls = []\n",
    "browser.visit(usgs_url)\n",
    "time.sleep(2)\n",
    "soup3 = BeautifulSoup(browser.html, 'html.parser')\n",
    "for item in soup3.find_all('div', class_='item'):\n",
    "    print('-----------------')\n",
    "    try:\n",
    "        img = item.find('img', class_=\"thumb\")\n",
    "        href = img['src']\n",
    "        alink = item.find('h3')\n",
    "        txt = alink.text\n",
    "        print('-----------')\n",
    "        print(txt)\n",
    "        print('https://www.jpl.nasa.gov' + href)\n",
    "        browser.click_link_by_partial_text(txt)\n",
    "        time.sleep(2)\n",
    "        soup3 = BeautifulSoup(browser.html, 'html.parser')\n",
    "        div = soup3.find('div', class_=\"downloads\")\n",
    "        full = div.find('a')\n",
    "        print(full['href'])\n",
    "        #hemisphere_image_urls.append({'title': txt, 'img_url': full['href']})\n",
    "        hemisphere_image_urls.append(full['href'])\n",
    "        browser.back()\n",
    "    except:\n",
    "        print(\"Scraping Complete\")\n",
    "# in case their website is down... which happened on 7/14/20\n",
    "if ( not hemisphere_image_urls ) : \n",
    "    print(\"### usgs_url unresponsive again!!! ###\")\n",
    "    hemisphere_image_urls.append(\"http://placehold.it/400x400\")\n",
    "    hemisphere_image_urls.append(\"http://via.placeholder.com/400\")\n",
    "    hemisphere_image_urls.append(\"http://placehold.it/400x400\")\n",
    "    hemisphere_image_urls.append(\"http://via.placeholder.com/400\")\n",
    "\n",
    "listings['hemisphere_image_urls'] = hemisphere_image_urls\n",
    "db.listings.update({}, listings, upsert=True)\n",
    "#\n",
    "# end logic for: usgs_url = \"https://astrogeology.usgs.gov/search/results?q=hemisphere+enhanced&k1=target&v1=Mars\"\"\n",
    "########"
   ]
  },
  {
   "cell_type": "code",
   "execution_count": 43,
   "metadata": {},
   "outputs": [
    {
     "output_type": "execute_result",
     "data": {
      "text/plain": "            description                          value\n0  Equatorial Diameter:                       6,792 km\n1       Polar Diameter:                       6,752 km\n2                 Mass:  6.39 × 10^23 kg (0.11 Earths)\n3                Moons:            2 (Phobos & Deimos)\n4       Orbit Distance:       227,943,824 km (1.38 AU)\n5         Orbit Period:           687 days (1.9 years)\n6  Surface Temperature:                   -87 to -5 °C\n7         First Record:              2nd millennium BC\n8          Recorded By:           Egyptian astronomers",
      "text/html": "<div>\n<style scoped>\n    .dataframe tbody tr th:only-of-type {\n        vertical-align: middle;\n    }\n\n    .dataframe tbody tr th {\n        vertical-align: top;\n    }\n\n    .dataframe thead th {\n        text-align: right;\n    }\n</style>\n<table border=\"1\" class=\"dataframe\">\n  <thead>\n    <tr style=\"text-align: right;\">\n      <th></th>\n      <th>description</th>\n      <th>value</th>\n    </tr>\n  </thead>\n  <tbody>\n    <tr>\n      <th>0</th>\n      <td>Equatorial Diameter:</td>\n      <td>6,792 km</td>\n    </tr>\n    <tr>\n      <th>1</th>\n      <td>Polar Diameter:</td>\n      <td>6,752 km</td>\n    </tr>\n    <tr>\n      <th>2</th>\n      <td>Mass:</td>\n      <td>6.39 × 10^23 kg (0.11 Earths)</td>\n    </tr>\n    <tr>\n      <th>3</th>\n      <td>Moons:</td>\n      <td>2 (Phobos &amp; Deimos)</td>\n    </tr>\n    <tr>\n      <th>4</th>\n      <td>Orbit Distance:</td>\n      <td>227,943,824 km (1.38 AU)</td>\n    </tr>\n    <tr>\n      <th>5</th>\n      <td>Orbit Period:</td>\n      <td>687 days (1.9 years)</td>\n    </tr>\n    <tr>\n      <th>6</th>\n      <td>Surface Temperature:</td>\n      <td>-87 to -5 °C</td>\n    </tr>\n    <tr>\n      <th>7</th>\n      <td>First Record:</td>\n      <td>2nd millennium BC</td>\n    </tr>\n    <tr>\n      <th>8</th>\n      <td>Recorded By:</td>\n      <td>Egyptian astronomers</td>\n    </tr>\n  </tbody>\n</table>\n</div>"
     },
     "metadata": {},
     "execution_count": 43
    }
   ],
   "source": [
    "########\n",
    "# begin logic for: facts_url = \"https://space-facts.com/mars/\"\n",
    "#\n",
    "tables = pd.read_html(facts_url)\n",
    "df = tables[0]\n",
    "df.columns = ['description', 'value']\n",
    "df"
   ]
  },
  {
   "cell_type": "code",
   "execution_count": 44,
   "metadata": {
    "tags": []
   },
   "outputs": [],
   "source": [
    "df.set_index('description', inplace=True)\n",
    "\n",
    "html_table = df.to_html(classes='table table-striped table-hover')\n",
    "html_table.replace('\\n', '')\n",
    "listings['mars_facts'] = html_table\n",
    "db.listings.update({}, listings, upsert=True)\n",
    "df.to_html('table.html', classes='table table-striped table-hover')\n",
    "#\n",
    "# end logic for: facts_url = \"https://space-facts.com/mars/\"\n",
    "########"
   ]
  },
  {
   "cell_type": "code",
   "execution_count": 45,
   "metadata": {
    "tags": []
   },
   "outputs": [
    {
     "output_type": "stream",
     "name": "stdout",
     "text": "{'_id': ObjectId('5f0e4984126a002f74a45a88'), 'news_title': \"6 Things to Know About NASA's Ingenuity Mars Helicopter\", 'news_p': 'The first helicopter attempting to fly on another planet is a marvel of engineering. Get up to speed with these key facts about its plans.', 'news_thumb': 'https://mars.nasa.gov/system/news_items/list_view_images/8712_PIA23720-320x240.jpg', 'news_link': 'https://mars.nasa.gov/news/8712/6-things-to-know-about-nasas-ingenuity-mars-helicopter/', 'date': 'July 14, 2020', 'featured_image_url': 'https://www.jpl.nasa.gov/spaceimages/images/largesize/PIA18904_hires.jpg', 'mars_weather': ' sol 579 (2020-07-13) low -88.5ºC (-127.4ºF) high -3.7ºC (25.4ºF)\\nwinds from the WNW at 5.0 m/s (11.2 mph) gusting to 14.8 m/s (33.1 mph)\\npressure at 7.80 hPa219', 'postinfo': 'Mars Weather@MarsWxReport·10h', 'mars_facts': '<table border=\"1\" class=\"dataframe table table-striped table-hover\">\\n  <thead>\\n    <tr style=\"text-align: right;\">\\n      <th></th>\\n      <th>value</th>\\n    </tr>\\n    <tr>\\n      <th>description</th>\\n      <th></th>\\n    </tr>\\n  </thead>\\n  <tbody>\\n    <tr>\\n      <th>Equatorial Diameter:</th>\\n      <td>6,792 km</td>\\n    </tr>\\n    <tr>\\n      <th>Polar Diameter:</th>\\n      <td>6,752 km</td>\\n    </tr>\\n    <tr>\\n      <th>Mass:</th>\\n      <td>6.39 × 10^23 kg (0.11 Earths)</td>\\n    </tr>\\n    <tr>\\n      <th>Moons:</th>\\n      <td>2 (Phobos &amp; Deimos)</td>\\n    </tr>\\n    <tr>\\n      <th>Orbit Distance:</th>\\n      <td>227,943,824 km (1.38 AU)</td>\\n    </tr>\\n    <tr>\\n      <th>Orbit Period:</th>\\n      <td>687 days (1.9 years)</td>\\n    </tr>\\n    <tr>\\n      <th>Surface Temperature:</th>\\n      <td>-87 to -5 °C</td>\\n    </tr>\\n    <tr>\\n      <th>First Record:</th>\\n      <td>2nd millennium BC</td>\\n    </tr>\\n    <tr>\\n      <th>Recorded By:</th>\\n      <td>Egyptian astronomers</td>\\n    </tr>\\n  </tbody>\\n</table>', 'hemisphere_image_urls': ['https://astropedia.astrogeology.usgs.gov/download/Mars/Viking/cerberus_enhanced.tif/full.jpg', 'https://astropedia.astrogeology.usgs.gov/download/Mars/Viking/schiaparelli_enhanced.tif/full.jpg', 'https://astropedia.astrogeology.usgs.gov/download/Mars/Viking/syrtis_major_enhanced.tif/full.jpg', 'https://astropedia.astrogeology.usgs.gov/download/Mars/Viking/valles_marineris_enhanced.tif/full.jpg']}\n1\n"
    }
   ],
   "source": [
    "# Display items in MongoDB collection\n",
    "\n",
    "#listings = db.posts.find()\n",
    "listings = db.listings.find()\n",
    "for listing in listings:\n",
    "        print(listing)\n",
    "\n",
    "print(db.listings.count())\n",
    "#bills_post = db.listings.find_one({'_id': 1})\n",
    "#db.posts.drop()"
   ]
  },
  {
   "cell_type": "code",
   "execution_count": 46,
   "metadata": {
    "tags": []
   },
   "outputs": [
    {
     "output_type": "stream",
     "name": "stdout",
     "text": "news_title = 6 Things to Know About NASA's Ingenuity Mars Helicopter\nnews_p = The first helicopter attempting to fly on another planet is a marvel of engineering. Get up to speed with these key facts about its plans.\nfeatured_image_url = https://www.jpl.nasa.gov/spaceimages/images/largesize/PIA18904_hires.jpg\nmars_weather =  sol 579 (2020-07-13) low -88.5ºC (-127.4ºF) high -3.7ºC (25.4ºF)\nwinds from the WNW at 5.0 m/s (11.2 mph) gusting to 14.8 m/s (33.1 mph)\npressure at 7.80 hPa219\n['https://astropedia.astrogeology.usgs.gov/download/Mars/Viking/cerberus_enhanced.tif/full.jpg', 'https://astropedia.astrogeology.usgs.gov/download/Mars/Viking/schiaparelli_enhanced.tif/full.jpg', 'https://astropedia.astrogeology.usgs.gov/download/Mars/Viking/syrtis_major_enhanced.tif/full.jpg', 'https://astropedia.astrogeology.usgs.gov/download/Mars/Viking/valles_marineris_enhanced.tif/full.jpg']\nmars_facts = <table border=\"1\" class=\"dataframe table table-striped table-hover\">\n  <thead>\n    <tr style=\"text-align: right;\">\n      <th></th>\n      <th>value</th>\n    </tr>\n    <tr>\n      <th>description</th>\n      <th></th>\n    </tr>\n  </thead>\n  <tbody>\n    <tr>\n      <th>Equatorial Diameter:</th>\n      <td>6,792 km</td>\n    </tr>\n    <tr>\n      <th>Polar Diameter:</th>\n      <td>6,752 km</td>\n    </tr>\n    <tr>\n      <th>Mass:</th>\n      <td>6.39 × 10^23 kg (0.11 Earths)</td>\n    </tr>\n    <tr>\n      <th>Moons:</th>\n      <td>2 (Phobos &amp; Deimos)</td>\n    </tr>\n    <tr>\n      <th>Orbit Distance:</th>\n      <td>227,943,824 km (1.38 AU)</td>\n    </tr>\n    <tr>\n      <th>Orbit Period:</th>\n      <td>687 days (1.9 years)</td>\n    </tr>\n    <tr>\n      <th>Surface Temperature:</th>\n      <td>-87 to -5 °C</td>\n    </tr>\n    <tr>\n      <th>First Record:</th>\n      <td>2nd millennium BC</td>\n    </tr>\n    <tr>\n      <th>Recorded By:</th>\n      <td>Egyptian astronomers</td>\n    </tr>\n  </tbody>\n</table>\ndict_keys(['_id', 'news_title', 'news_p', 'news_thumb', 'news_link', 'date', 'featured_image_url', 'mars_weather', 'postinfo', 'mars_facts', 'hemisphere_image_urls'])\n"
    }
   ],
   "source": [
    "# Initialize PyMongo to work with MongoDBs\n",
    "conn = 'mongodb://localhost:27017/mars_app'\n",
    "client = pymongo.MongoClient(conn)\n",
    "db = client.mars_app\n",
    "\n",
    "listings = db.listings.find_one()\n",
    "if ( not listings ) : listings = {}\n",
    "if ( 'news_title' in listings.keys() ) :\n",
    "    print('news_title = ' + listings['news_title'])\n",
    "if ( 'news_p' in listings.keys() ) :\n",
    "    print('news_p = ' + listings['news_p'])\n",
    "if ( 'featured_image_url' in listings.keys() ) :\n",
    "    print('featured_image_url = ' + listings['featured_image_url'])\n",
    "if ( 'mars_weather' in listings.keys() ) :\n",
    "    print('mars_weather = ' + listings['mars_weather'])\n",
    "if ( 'hemisphere_image_urls' in listings.keys() ) :\n",
    "    print(listings['hemisphere_image_urls'])\n",
    "if ( 'mars_facts' in listings.keys() ) :\n",
    "    print('mars_facts = ' + listings['mars_facts'])\n",
    "print(listings.keys())"
   ]
  }
 ],
 "metadata": {
  "kernelspec": {
   "display_name": "Python 3",
   "language": "python",
   "name": "python3"
  },
  "language_info": {
   "codemirror_mode": {
    "name": "ipython",
    "version": 3
   },
   "file_extension": ".py",
   "mimetype": "text/x-python",
   "name": "python",
   "nbconvert_exporter": "python",
   "pygments_lexer": "ipython3",
   "version": "3.7.6-final"
  },
  "varInspector": {
   "cols": {
    "lenName": 16,
    "lenType": 16,
    "lenVar": 40
   },
   "kernels_config": {
    "python": {
     "delete_cmd_postfix": "",
     "delete_cmd_prefix": "del ",
     "library": "var_list.py",
     "varRefreshCmd": "print(var_dic_list())"
    },
    "r": {
     "delete_cmd_postfix": ") ",
     "delete_cmd_prefix": "rm(",
     "library": "var_list.r",
     "varRefreshCmd": "cat(var_dic_list()) "
    }
   },
   "types_to_exclude": [
    "module",
    "function",
    "builtin_function_or_method",
    "instance",
    "_Feature"
   ],
   "window_display": false
  }
 },
 "nbformat": 4,
 "nbformat_minor": 2
}